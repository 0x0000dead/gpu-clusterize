{
 "cells": [
  {
   "cell_type": "markdown",
   "metadata": {},
   "source": [
    "## KNN Model Implementation in python using FAISS library \n",
    "### source code reference\n",
    "https://github.com/facebookresearch/faiss"
   ]
  },
  {
   "cell_type": "markdown",
   "metadata": {},
   "source": [
    "### KNN Wrapper Class for Predicting K nearest neighors "
   ]
  },
  {
   "cell_type": "code",
   "execution_count": 1,
   "metadata": {},
   "outputs": [],
   "source": [
    "import numpy as np \n",
    "from collections import Counter \n",
    "import os \n",
    "import faiss\n",
    "import time \n",
    " \n",
    "class FaissKNNImpl:\n",
    "    \n",
    "    def __init__(self,k,faiss):\n",
    "        self.k = k # k nearest neighbor value\n",
    "        self.faissIns = faiss # FAISS instance\n",
    "        self.index = 0  \n",
    "        self.train_labels = []  \n",
    "        self.test_label_faiss_output = [] \n",
    "        \n",
    "    def fitModel(self,train_features,train_labels): \n",
    "        self.train_labels = train_labels\n",
    "        self.index = self.faissIns.IndexFlatL2(train_features.shape[1])   # build the index \n",
    "        self.index.add(train_features)       # add vectors to the index\n",
    "        \n",
    "    def predict(self,test_features): \n",
    "        distance, test_features_faiss_Index = self.index.search(test_features, self.k) \n",
    "        self.test_label_faiss_output = stats.mode(self.train_labels[test_features_faiss_Index],axis=1)[0]\n",
    "        self.test_label_faiss_output = np.array(self.test_label_faiss_output.ravel())\n",
    "        return self.test_label_faiss_output\n",
    "      \n",
    "    def getAccuracy(self,test_labels):\n",
    "        accuracy = (self.test_label_faiss_output == test_labels).mean() * 100 \n",
    "        return round(accuracy) "
   ]
  },
  {
   "cell_type": "markdown",
   "metadata": {},
   "source": [
    "## Data can be dowloaded from here\n",
    "https://drive.google.com/file/d/1txt-EhdUPXC7w28s4scKVXco9Xla36O2/view?usp=sharing"
   ]
  },
  {
   "cell_type": "code",
   "execution_count": 11,
   "metadata": {},
   "outputs": [
    {
     "name": "stdout",
     "output_type": "stream",
     "text": [
      "Time for calculating distance matrix:  0.0\n"
     ]
    }
   ],
   "source": [
    "def calculate_matrix(size, all_points, is_sklearn=False):\n",
    "    # if is_sklearn:\n",
    "    # distance_matrix = pairwise_distances(all_points, metric='euclidean')\n",
    "    # else:\n",
    "    distance_matrix = np.zeros((size, size))\n",
    "    for i in range(size):\n",
    "        distance_matrix[i, :] = np.sqrt(np.sum((all_points[i] - all_points) ** 2, axis=1))\n",
    "\n",
    "    return distance_matrix\n",
    "\n",
    "def read_data(path):\n",
    "    all_points = []\n",
    "    with open(path, 'r') as f:\n",
    "        numbers = f.readline().split()\n",
    "        numbers = [int(x) for x in numbers]\n",
    "        # print(numbers)\n",
    "        for line in f:\n",
    "            all_points.append([float(x) for x in line.split()])\n",
    "\n",
    "        start = time.time()\n",
    "\n",
    "        # distance_matrix = calculate_matrix(numbers[0], np.array(all_points), is_sklearn=False)\n",
    "        end = time.time()\n",
    "        print(\"Time for calculating distance matrix: \", end - start)\n",
    "        # print(distance_matrix)\n",
    "\n",
    "        # save distance matrix to file\n",
    "        #np.savetxt('distance_matrix.txt', distance_matrix, fmt='%f')\n",
    "    return np.asarray(all_points), numbers[0]\n",
    "\n",
    "all_points, m = read_data(r\"C:\\Users\\Sergey\\Documents\\GitHub\\gpu-clusterize\\data\\my_data_10.txt\")"
   ]
  },
  {
   "cell_type": "code",
   "execution_count": 12,
   "metadata": {},
   "outputs": [
    {
     "data": {
      "text/plain": [
       "(10, 2)"
      ]
     },
     "execution_count": 12,
     "metadata": {},
     "output_type": "execute_result"
    }
   ],
   "source": [
    "all_points.shape"
   ]
  },
  {
   "cell_type": "code",
   "execution_count": 13,
   "metadata": {},
   "outputs": [],
   "source": [
    "raw_data = all_points"
   ]
  },
  {
   "cell_type": "markdown",
   "metadata": {},
   "source": [
    "## Prepare Training and Test Data using 58k datapoints and 54 features"
   ]
  },
  {
   "cell_type": "code",
   "execution_count": 14,
   "metadata": {},
   "outputs": [],
   "source": [
    "np.random.seed(0)\n",
    "np.random.shuffle(raw_data)\n",
    "train_size = int(0.9 * raw_data.shape[0])\n",
    "train_features = raw_data[:train_size, :-1].astype('float32')\n",
    "train_labels = raw_data[:train_size, -1].astype('float32')\n",
    "test_features = raw_data[train_size:, :-1].astype('float32')\n",
    "test_labels = raw_data[train_size:, -1].astype('float32')"
   ]
  },
  {
   "cell_type": "code",
   "execution_count": 15,
   "metadata": {
    "scrolled": true
   },
   "outputs": [
    {
     "data": {
      "text/plain": [
       "(9, 1)"
      ]
     },
     "execution_count": 15,
     "metadata": {},
     "output_type": "execute_result"
    }
   ],
   "source": [
    "train_features.shape"
   ]
  },
  {
   "cell_type": "code",
   "execution_count": 16,
   "metadata": {},
   "outputs": [
    {
     "data": {
      "text/plain": [
       "(1, 1)"
      ]
     },
     "execution_count": 16,
     "metadata": {},
     "output_type": "execute_result"
    }
   ],
   "source": [
    "test_features.shape"
   ]
  },
  {
   "cell_type": "code",
   "execution_count": 17,
   "metadata": {},
   "outputs": [],
   "source": [
    "import faiss_knn as fbknn"
   ]
  },
  {
   "cell_type": "markdown",
   "metadata": {},
   "source": [
    "## Train FAISS KNN model with k = 5"
   ]
  },
  {
   "cell_type": "code",
   "execution_count": 21,
   "metadata": {},
   "outputs": [
    {
     "name": "stdout",
     "output_type": "stream",
     "text": [
      "time required for training 9 data points at k = 1: 0.00 seconds\n"
     ]
    }
   ],
   "source": [
    "k = 1\n",
    "start_time = time.time()\n",
    "faissobj = fbknn.FaissKNNImpl(k,faiss)\n",
    "faissobj.fitModel(train_features,train_labels)\n",
    "run_time = time.time() - start_time\n",
    "print('time required for training %d data points at k = %d: %.2f seconds' % (train_features.shape[0], k , run_time))"
   ]
  },
  {
   "cell_type": "code",
   "execution_count": 22,
   "metadata": {},
   "outputs": [
    {
     "name": "stdout",
     "output_type": "stream",
     "text": [
      "time required for predicting 1 data point at k = 1: 0.22 seconds\n"
     ]
    }
   ],
   "source": [
    "# start_time = time.time()\n",
    "predictions = faissobj.predict(test_features)\n",
    "run_time = time.time() - start_time\n",
    "print('time required for predicting %d data point at k = %d: %.2f seconds' % (test_features.shape[0], k, run_time))"
   ]
  },
  {
   "cell_type": "code",
   "execution_count": 23,
   "metadata": {},
   "outputs": [
    {
     "name": "stdout",
     "output_type": "stream",
     "text": [
      "Accuracy for K = 1 : 0  %\n"
     ]
    }
   ],
   "source": [
    "accuracy = faissobj.getAccuracy(test_labels) \n",
    "print('Accuracy for K = %d : %d ' % (k, accuracy),'%')"
   ]
  },
  {
   "cell_type": "markdown",
   "metadata": {},
   "source": [
    "### Accuracy for K = 5 : 97  % "
   ]
  },
  {
   "cell_type": "code",
   "execution_count": 24,
   "metadata": {},
   "outputs": [
    {
     "ename": "ValueError",
     "evalue": "Number of classes, 2, does not match size of target_names, 7. Try specifying the labels parameter",
     "output_type": "error",
     "traceback": [
      "\u001b[1;31m---------------------------------------------------------------------------\u001b[0m",
      "\u001b[1;31mValueError\u001b[0m                                Traceback (most recent call last)",
      "\u001b[1;32m~\\AppData\\Local\\Temp/ipykernel_5136/1890927470.py\u001b[0m in \u001b[0;36m<module>\u001b[1;34m\u001b[0m\n\u001b[0;32m      3\u001b[0m \u001b[0my_pred\u001b[0m \u001b[1;33m=\u001b[0m \u001b[0mpredictions\u001b[0m\u001b[1;33m\u001b[0m\u001b[0m\n\u001b[0;32m      4\u001b[0m \u001b[0mtarget_names\u001b[0m \u001b[1;33m=\u001b[0m \u001b[1;33m[\u001b[0m\u001b[1;34m'class 1'\u001b[0m\u001b[1;33m,\u001b[0m \u001b[1;34m'class 2'\u001b[0m\u001b[1;33m,\u001b[0m \u001b[1;34m'class 3'\u001b[0m\u001b[1;33m,\u001b[0m\u001b[1;34m'class 4'\u001b[0m\u001b[1;33m,\u001b[0m \u001b[1;34m'class 5'\u001b[0m\u001b[1;33m,\u001b[0m \u001b[1;34m'class 6'\u001b[0m\u001b[1;33m,\u001b[0m\u001b[1;34m'class 7'\u001b[0m\u001b[1;33m]\u001b[0m\u001b[1;33m\u001b[0m\u001b[0m\n\u001b[1;32m----> 5\u001b[1;33m \u001b[0mprint\u001b[0m\u001b[1;33m(\u001b[0m\u001b[0mclassification_report\u001b[0m\u001b[1;33m(\u001b[0m\u001b[0my_true\u001b[0m\u001b[1;33m,\u001b[0m \u001b[0my_pred\u001b[0m\u001b[1;33m,\u001b[0m \u001b[0mtarget_names\u001b[0m\u001b[1;33m=\u001b[0m\u001b[0mtarget_names\u001b[0m\u001b[1;33m)\u001b[0m\u001b[1;33m)\u001b[0m\u001b[1;33m\u001b[0m\u001b[0m\n\u001b[0m",
      "\u001b[1;32mc:\\Users\\Sergey\\PycharmProjects\\Test\\venv\\lib\\site-packages\\sklearn\\metrics\\_classification.py\u001b[0m in \u001b[0;36mclassification_report\u001b[1;34m(y_true, y_pred, labels, target_names, sample_weight, digits, output_dict, zero_division)\u001b[0m\n\u001b[0;32m   2099\u001b[0m                 \u001b[1;34m\"Number of classes, {0}, does not match size of \"\u001b[0m\u001b[1;33m\u001b[0m\u001b[0m\n\u001b[0;32m   2100\u001b[0m                 \u001b[1;34m\"target_names, {1}. Try specifying the labels \"\u001b[0m\u001b[1;33m\u001b[0m\u001b[0m\n\u001b[1;32m-> 2101\u001b[1;33m                 \u001b[1;34m\"parameter\"\u001b[0m\u001b[1;33m.\u001b[0m\u001b[0mformat\u001b[0m\u001b[1;33m(\u001b[0m\u001b[0mlen\u001b[0m\u001b[1;33m(\u001b[0m\u001b[0mlabels\u001b[0m\u001b[1;33m)\u001b[0m\u001b[1;33m,\u001b[0m \u001b[0mlen\u001b[0m\u001b[1;33m(\u001b[0m\u001b[0mtarget_names\u001b[0m\u001b[1;33m)\u001b[0m\u001b[1;33m)\u001b[0m\u001b[1;33m\u001b[0m\u001b[0m\n\u001b[0m\u001b[0;32m   2102\u001b[0m             )\n\u001b[0;32m   2103\u001b[0m     \u001b[1;32mif\u001b[0m \u001b[0mtarget_names\u001b[0m \u001b[1;32mis\u001b[0m \u001b[1;32mNone\u001b[0m\u001b[1;33m:\u001b[0m\u001b[1;33m\u001b[0m\u001b[0m\n",
      "\u001b[1;31mValueError\u001b[0m: Number of classes, 2, does not match size of target_names, 7. Try specifying the labels parameter"
     ]
    }
   ],
   "source": [
    "from sklearn.metrics import classification_report\n",
    "y_true = test_labels\n",
    "y_pred = predictions\n",
    "target_names = ['class 1', 'class 2', 'class 3','class 4', 'class 5', 'class 6','class 7']\n",
    "print(classification_report(y_true, y_pred, target_names=target_names)) "
   ]
  },
  {
   "cell_type": "markdown",
   "metadata": {},
   "source": [
    "## Train FAISS KNN model with k = 10"
   ]
  },
  {
   "cell_type": "code",
   "execution_count": 19,
   "metadata": {},
   "outputs": [
    {
     "name": "stdout",
     "output_type": "stream",
     "text": [
      "time required for training 522910 data point at k = 10: 0.05 seconds\n"
     ]
    }
   ],
   "source": [
    "k = 10\n",
    "start_time = time.time()\n",
    "faissobj = fbknn.FaissKNNImpl(k,faiss)\n",
    "faissobj.fitModel(train_features,train_labels)\n",
    "run_time = time.time() - start_time\n",
    "print('time required for training %d data point at k = %d: %.2f seconds' % (train_features.shape[0], k, run_time))"
   ]
  },
  {
   "cell_type": "code",
   "execution_count": 20,
   "metadata": {},
   "outputs": [
    {
     "name": "stdout",
     "output_type": "stream",
     "text": [
      "time required for predicting 58102 data point at k = 10: 42.15 seconds\n"
     ]
    }
   ],
   "source": [
    "start_time = time.time()\n",
    "predictions = faissobj.predict(test_features)\n",
    "run_time = time.time() - start_time\n",
    "print('time required for predicting %d data point at k = %d: %.2f seconds' % (test_features.shape[0], k, run_time))"
   ]
  },
  {
   "cell_type": "code",
   "execution_count": 21,
   "metadata": {},
   "outputs": [
    {
     "name": "stdout",
     "output_type": "stream",
     "text": [
      "Accuracy for K = 10 : 96  %\n"
     ]
    }
   ],
   "source": [
    "accuracy = faissobj.getAccuracy(test_labels) \n",
    "print('Accuracy for K = %d : %d ' % (k, accuracy),'%')"
   ]
  },
  {
   "cell_type": "markdown",
   "metadata": {},
   "source": [
    "### Accuracy for K = 10 : 96  % "
   ]
  },
  {
   "cell_type": "code",
   "execution_count": null,
   "metadata": {},
   "outputs": [],
   "source": []
  }
 ],
 "metadata": {
  "kernelspec": {
   "display_name": "venv",
   "language": "python",
   "name": "python3"
  },
  "language_info": {
   "codemirror_mode": {
    "name": "ipython",
    "version": 3
   },
   "file_extension": ".py",
   "mimetype": "text/x-python",
   "name": "python",
   "nbconvert_exporter": "python",
   "pygments_lexer": "ipython3",
   "version": "3.7.0"
  },
  "vscode": {
   "interpreter": {
    "hash": "95d4fbb50e0639eac78ce31be8f089f6dcaeb2d87ac30a1f549e293ffcab97e3"
   }
  }
 },
 "nbformat": 4,
 "nbformat_minor": 2
}
