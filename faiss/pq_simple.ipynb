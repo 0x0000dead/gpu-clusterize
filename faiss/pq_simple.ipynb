{
 "cells": [
  {
   "cell_type": "markdown",
   "metadata": {},
   "source": [
    "# Simple PQ Implementation\n",
    "\n",
    "In this notebook we will implement product quantization (PQ) using simple, readable, Python code."
   ]
  },
  {
   "cell_type": "code",
   "execution_count": 1,
   "metadata": {},
   "outputs": [],
   "source": [
    "x = [1, 8, 3, 9, 1, 2, 9, 4, 5, 4, 6, 2]"
   ]
  },
  {
   "cell_type": "markdown",
   "metadata": {},
   "source": [
    "The first step is the creation of `m` subvectors:"
   ]
  },
  {
   "cell_type": "code",
   "execution_count": 2,
   "metadata": {},
   "outputs": [],
   "source": [
    "m = 4\n",
    "D = len(x)\n",
    "# ensure D is divisable by m\n",
    "assert D % m == 0\n",
    "# length of each subvector will be D / m (D* in notation)\n",
    "D_ = int(D / m)"
   ]
  },
  {
   "cell_type": "code",
   "execution_count": 5,
   "metadata": {},
   "outputs": [
    {
     "data": {
      "text/plain": [
       "[[1, 8, 3], [9, 1, 2], [9, 4, 5], [4, 6, 2]]"
      ]
     },
     "execution_count": 5,
     "metadata": {},
     "output_type": "execute_result"
    }
   ],
   "source": [
    "# now create the subvectors\n",
    "u = [x[row:row+D_] for row in range(0, D, D_)]\n",
    "u"
   ]
  },
  {
   "cell_type": "markdown",
   "metadata": {},
   "source": [
    "Now we must create a set of clusters for each subvector space - giving us `m` seperate *codebooks* (codebook will map our subvectors to their assigned cluster centroids - *reproduction values*).\n",
    "\n",
    "The clusters would usually be trained, we will not do that here as this example is using only one vector. We will use randomly generated centroid positions.\n",
    "\n",
    "We need to decide how many centroids create - more centroids == lower error between vector positions and the centroids they are assigned to (more centroids increases the chances of vectors being assigned to a closer centroid).\n",
    "\n",
    "This value is chosen by `k`, which must be divisable by `m` to create equal (sub)centroid ranges for each subvector."
   ]
  },
  {
   "cell_type": "code",
   "execution_count": 30,
   "metadata": {},
   "outputs": [
    {
     "name": "stdout",
     "output_type": "stream",
     "text": [
      "8, 2\n"
     ]
    }
   ],
   "source": [
    "k = 2**3\n",
    "assert k % m == 0\n",
    "k_ = int(k/m)\n",
    "print(f\"{k}, {k_}\")"
   ]
  },
  {
   "cell_type": "markdown",
   "metadata": {},
   "source": [
    "We have `32` centroids in total, and `8` centroids per subvector space (subspace).\n",
    "\n",
    "Each of these centroids will have three dimensions - aligned to our subvector dimensionality. Let's generate them."
   ]
  },
  {
   "cell_type": "code",
   "execution_count": 31,
   "metadata": {},
   "outputs": [],
   "source": [
    "from random import randint\n",
    "\n",
    "c = []  # our overall list of reproduction values\n",
    "for j in range(m):\n",
    "    # each j represents a subvector (and therefore subquantizer) position\n",
    "    c_j = []\n",
    "    for i in range(k_):\n",
    "        # each i represents a cluster/reproduction value position *inside* each subspace j\n",
    "        c_ji = [randint(0, 9) for _ in range(D_)]\n",
    "        c_j.append(c_ji)  # add cluster centroid to subspace list\n",
    "    # add subspace list of centroids to overall list\n",
    "    c.append(c_j)"
   ]
  },
  {
   "cell_type": "code",
   "execution_count": 32,
   "metadata": {},
   "outputs": [
    {
     "data": {
      "text/plain": [
       "[[[3, 7, 2], [5, 6, 7]],\n",
       " [[1, 2, 3], [7, 3, 0]],\n",
       " [[7, 5, 7], [5, 4, 8]],\n",
       " [[8, 4, 9], [8, 5, 2]]]"
      ]
     },
     "execution_count": 32,
     "metadata": {},
     "output_type": "execute_result"
    }
   ],
   "source": [
    "c"
   ]
  },
  {
   "cell_type": "markdown",
   "metadata": {},
   "source": [
    "There are a lot of centroids in here so the easiest way for us to *see* them is to visualize:"
   ]
  },
  {
   "cell_type": "code",
   "execution_count": 33,
   "metadata": {},
   "outputs": [
    {
     "data": {
      "image/png": "[encoded data removed]",
      "text/plain": [
       "<Figure size 432x288 with 4 Axes>"
      ]
     },
     "metadata": {
      "needs_background": "light"
     },
     "output_type": "display_data"
    }
   ],
   "source": [
    "import matplotlib.pyplot as plt\n",
    "\n",
    "fig = plt.figure()\n",
    "\n",
    "for j in range(m):\n",
    "    ax = fig.add_subplot(2, 2, j+1, projection='3d')\n",
    "    # get centroid positions\n",
    "    X = [c[j][i][0] for i in range(k_)]\n",
    "    Y = [c[j][i][1] for i in range(k_)]\n",
    "    Z = [c[j][i][2] for i in range(k_)]\n",
    "    # plot\n",
    "    ax.scatter(X, Y, Z)\n",
    "    ax.set_title(f\"c_{j}\")\n",
    "    # remove tick values (they're messy)\n",
    "    ax.xaxis.set_ticklabels([])\n",
    "    ax.yaxis.set_ticklabels([])\n",
    "    ax.zaxis.set_ticklabels([])"
   ]
  },
  {
   "cell_type": "markdown",
   "metadata": {},
   "source": [
    "These are the centroids for each of our subspaces, subvector `u_0` will be mapped to a centroid within subspace `c_0`, `u_1` to `c_1`, etc, etc.\n",
    "\n",
    "Let's go ahead and do this. First, we will define a function to find the nearest centroid using Euclidean distance."
   ]
  },
  {
   "cell_type": "code",
   "execution_count": 34,
   "metadata": {},
   "outputs": [],
   "source": [
    "def euclidean(v, u):\n",
    "    distance = sum((x - y) ** 2 for x, y in zip(v, u)) ** .5\n",
    "    return distance\n",
    "\n",
    "def nearest(c_j, u_j):\n",
    "    distance = 9e9\n",
    "    for i in range(k_):\n",
    "        new_dist = euclidean(c_j[i], u_j)\n",
    "        if new_dist < distance:\n",
    "            nearest_idx = i\n",
    "            distance = new_dist\n",
    "    return nearest_idx"
   ]
  },
  {
   "cell_type": "markdown",
   "metadata": {},
   "source": [
    "And now we calculate the nearest centroids for each subspace."
   ]
  },
  {
   "cell_type": "code",
   "execution_count": 35,
   "metadata": {},
   "outputs": [
    {
     "data": {
      "text/plain": [
       "[0, 1, 0, 1]"
      ]
     },
     "execution_count": 35,
     "metadata": {},
     "output_type": "execute_result"
    }
   ],
   "source": [
    "ids = []\n",
    "for j in range(m):\n",
    "    i = nearest(c[j], u[j])\n",
    "    ids.append(i)\n",
    "ids"
   ]
  },
  {
   "cell_type": "markdown",
   "metadata": {},
   "source": [
    "Finally, we need a way to translate these IDs back into the centroid co-ordinates - well, we already have it - our codebook `c`, when it comes to comparing vectors we don't use the centroid IDs, we use the centroids themselves (our reproduction values)."
   ]
  },
  {
   "cell_type": "code",
   "execution_count": 39,
   "metadata": {},
   "outputs": [],
   "source": [
    "q = []\n",
    "for j in range(m):\n",
    "    c_ji = c[j][ids[j]]\n",
    "    q.extend(c_ji)"
   ]
  },
  {
   "cell_type": "code",
   "execution_count": 40,
   "metadata": {},
   "outputs": [
    {
     "data": {
      "text/plain": [
       "[3, 7, 2, 7, 3, 0, 7, 5, 7, 8, 5, 2]"
      ]
     },
     "execution_count": 40,
     "metadata": {},
     "output_type": "execute_result"
    }
   ],
   "source": [
    "q"
   ]
  },
  {
   "cell_type": "markdown",
   "metadata": {},
   "source": [
    "We typical measure the error between our quantized vectors `q` and the originals `x` using mean squard error (MSE):"
   ]
  },
  {
   "cell_type": "code",
   "execution_count": 41,
   "metadata": {},
   "outputs": [],
   "source": [
    "def mse(v, u):\n",
    "    error = sum((x - y) ** 2 for x, y in zip(v, u)) / len(v)\n",
    "    return error"
   ]
  },
  {
   "cell_type": "code",
   "execution_count": 42,
   "metadata": {},
   "outputs": [
    {
     "data": {
      "text/plain": [
       "3.6666666666666665"
      ]
     },
     "execution_count": 42,
     "metadata": {},
     "output_type": "execute_result"
    }
   ],
   "source": [
    "mse(x, q)"
   ]
  },
  {
   "cell_type": "markdown",
   "metadata": {},
   "source": [
    "When using many vectors, we can to minimize the MSE over our original vectors and the centroids by increasing the number of centroids. However this will increase index size and so must be balanced.\n",
    "\n",
    "Lower MSE == more accurate search results *and* higher memory usage.\n",
    "\n",
    "---\n",
    "\n",
    "# Search With PQ\n",
    "\n",
    "Let's move onto building a *searchable* PQ index. For that we need more vectors - which we can get from the *Sift1M* dataset. We're still sticking with our unoptimized but readable implementation for now, so we will only use a small subset of these vectors."
   ]
  },
  {
   "cell_type": "code",
   "execution_count": 48,
   "metadata": {},
   "outputs": [
    {
     "data": {
      "text/plain": [
       "('C:/Users/Sergey/Documents/GitHub/gpu-clusterize/faiss/data/siftsmall.tar.gz',\n",
       " <email.message.Message at 0x224cc415828>)"
      ]
     },
     "execution_count": 48,
     "metadata": {},
     "output_type": "execute_result"
    }
   ],
   "source": [
    "from urllib.request import urlretrieve\n",
    "import tarfile\n",
    "# urlretrieve(\"ftp://ftp.irisa.fr/local/texmex/corpus/siftsmall.tar.gz\", 'C:/Users/Sergey/Documents/GitHub/gpu-clusterize/faiss/data/siftsmall.tar.gz')"
   ]
  },
  {
   "cell_type": "code",
   "execution_count": 54,
   "metadata": {},
   "outputs": [],
   "source": [
    "import numpy as np\n",
    "\n",
    "# now define a function to read the fvecs file format of Sift1M dataset\n",
    "def read_fvecs(fp):\n",
    "    a = np.fromfile(fp, dtype='int32')\n",
    "    d = a[0]\n",
    "    return a.reshape(-1, d + 1)[:, 1:].copy().view('float32')\n",
    "\n",
    "# 1M samples originally, we stick with 1K\n",
    "xb = read_fvecs(r'C:\\Users\\Sergey\\Documents\\GitHub\\gpu-clusterize\\faiss\\data\\siftsmall\\siftsmall_base.fvecs')[:1000]\n",
    "# queries\n",
    "xq = read_fvecs(r'C:\\Users\\Sergey\\Documents\\GitHub\\gpu-clusterize\\faiss\\data\\siftsmall\\siftsmall_query.fvecs')[0].reshape(1, -1)"
   ]
  },
  {
   "cell_type": "code",
   "execution_count": 55,
   "metadata": {},
   "outputs": [
    {
     "data": {
      "text/plain": [
       "(1000, 128)"
      ]
     },
     "execution_count": 55,
     "metadata": {},
     "output_type": "execute_result"
    }
   ],
   "source": [
    "xb.shape"
   ]
  },
  {
   "cell_type": "code",
   "execution_count": 56,
   "metadata": {},
   "outputs": [
    {
     "data": {
      "text/plain": [
       "(1, 128)"
      ]
     },
     "execution_count": 56,
     "metadata": {},
     "output_type": "execute_result"
    }
   ],
   "source": [
    "xq.shape"
   ]
  },
  {
   "cell_type": "markdown",
   "metadata": {},
   "source": [
    "As before, we must create `m` subvectors (for each vector in `xb` this time)."
   ]
  },
  {
   "cell_type": "code",
   "execution_count": 57,
   "metadata": {},
   "outputs": [
    {
     "data": {
      "text/plain": [
       "16"
      ]
     },
     "execution_count": 57,
     "metadata": {},
     "output_type": "execute_result"
    }
   ],
   "source": [
    "m = 8\n",
    "D = xb.shape[1]\n",
    "assert D % m == 0\n",
    "D_ = int(D/m)\n",
    "D_"
   ]
  },
  {
   "cell_type": "markdown",
   "metadata": {},
   "source": [
    "So we'll be working with subvectors with dimensionality `D_` of `16`. We must also set our `k` value, we will use a value of `2048` (or `2^11`) to leave us with `256` subquantizers (`k_`)."
   ]
  },
  {
   "cell_type": "code",
   "execution_count": 58,
   "metadata": {},
   "outputs": [
    {
     "data": {
      "text/plain": [
       "256"
      ]
     },
     "execution_count": 58,
     "metadata": {},
     "output_type": "execute_result"
    }
   ],
   "source": [
    "k = 2**11\n",
    "assert k % m == 0\n",
    "k_ = int(k/m)\n",
    "k_"
   ]
  },
  {
   "cell_type": "markdown",
   "metadata": {},
   "source": [
    "We can now create all of our centroids - we'll be doing this in Numpy this time so this will look slightly different, but the outcome is the same."
   ]
  },
  {
   "cell_type": "code",
   "execution_count": 59,
   "metadata": {},
   "outputs": [],
   "source": [
    "c = np.random.randint(1, int(xb.max()+1), (m, k_, D_))"
   ]
  },
  {
   "cell_type": "code",
   "execution_count": 60,
   "metadata": {},
   "outputs": [
    {
     "data": {
      "text/plain": [
       "(8, 256, 16)"
      ]
     },
     "execution_count": 60,
     "metadata": {},
     "output_type": "execute_result"
    }
   ],
   "source": [
    "c.shape"
   ]
  },
  {
   "cell_type": "markdown",
   "metadata": {},
   "source": [
    "We now have `8` subspaces (set by `m`), each of these correspond to their respective subvector positions `j = 0 -> m`. Within each subspace we have `256` centroids/reproduction values (set by `k_`). Each of these centroids is a `16`-dimensional vector, equivalent to our subvector `u` dimensionalities (set by `D_`)."
   ]
  },
  {
   "cell_type": "code",
   "execution_count": 61,
   "metadata": {},
   "outputs": [
    {
     "data": {
      "text/plain": [
       "(256, 16)"
      ]
     },
     "execution_count": 61,
     "metadata": {},
     "output_type": "execute_result"
    }
   ],
   "source": [
    "c[0].shape  # subspace 0, covering vector dims 0 -> 16"
   ]
  },
  {
   "cell_type": "code",
   "execution_count": 62,
   "metadata": {},
   "outputs": [
    {
     "data": {
      "text/plain": [
       "(256, 16)"
      ]
     },
     "execution_count": 62,
     "metadata": {},
     "output_type": "execute_result"
    }
   ],
   "source": [
    "c[1].shape  # subspace 1, covering vector dims 16 -> 32"
   ]
  },
  {
   "cell_type": "markdown",
   "metadata": {},
   "source": [
    "Our codebook `c` now contains a big list of all of our centroids, we use the index of each centroid as it's ID - and we will replace each of our datasets `xb` vectors with a sequence of it's nearest centroid IDs.\n",
    "\n",
    "Because each vector is split into `m=8` subvectors, this means each vector can now be represented by `8` ID values.\n",
    "\n",
    "Let's quantize our `xb` using this approach. First we need to split each `xb` vector `x` into subvectors `u` (or `ub` for the full set)."
   ]
  },
  {
   "cell_type": "code",
   "execution_count": 63,
   "metadata": {},
   "outputs": [
    {
     "data": {
      "text/plain": [
       "(1000, 8, 16)"
      ]
     },
     "execution_count": 63,
     "metadata": {},
     "output_type": "execute_result"
    }
   ],
   "source": [
    "ub = xb.reshape(-1, m, D_)\n",
    "ub.shape"
   ]
  },
  {
   "cell_type": "markdown",
   "metadata": {},
   "source": [
    "Then we loop through each subspace, identifying the nearest centroid positions for every single subvector."
   ]
  },
  {
   "cell_type": "code",
   "execution_count": 64,
   "metadata": {},
   "outputs": [
    {
     "data": {
      "text/plain": [
       "(1000, 8)"
      ]
     },
     "execution_count": 64,
     "metadata": {},
     "output_type": "execute_result"
    }
   ],
   "source": [
    "id_b = np.zeros((xb.shape[0], m), dtype=np.uint8)\n",
    "for row, u in enumerate(ub):\n",
    "    for j in range(m):\n",
    "        # get ID of nearest centroid within current 'j' subspace\n",
    "        idx = nearest(c[j], u[j])\n",
    "        id_b[row, j] = idx\n",
    "id_b.shape"
   ]
  },
  {
   "cell_type": "code",
   "execution_count": 65,
   "metadata": {},
   "outputs": [
    {
     "data": {
      "text/plain": [
       "array([[187, 145, 158, 145, 136,   4,  36, 246],\n",
       "       [ 21,  31, 213, 145, 136, 103,  36, 246],\n",
       "       [187, 145, 158, 145, 136,   4,  36, 246],\n",
       "       [131,  31, 158, 123, 136,  54,  82, 246],\n",
       "       [ 39, 145, 158, 145,  68,  42,  36, 246]], dtype=uint8)"
      ]
     },
     "execution_count": 65,
     "metadata": {},
     "output_type": "execute_result"
    }
   ],
   "source": [
    "id_b[:5]"
   ]
  },
  {
   "cell_type": "markdown",
   "metadata": {},
   "source": [
    "We've now converted our vectors into quantized vectors where each 16-dimensional subvector can be represented by a single 8-bit integer. This also has the bonus effect of reducing vector dimensionality from *128 -> 8*.\n",
    "\n",
    "Now, these IDs cannot be used when comparing the distance between a query vector `xq` and the data `id_b` - instead we use the *codebook* `c` to map the subvector IDs in `id_b` to their respective subvector centroids - which we then compare to the equivalent `xq` subvectors.\n",
    "\n",
    "Let's go ahead and do that. First, we create a subvector version of our query vector `xq`."
   ]
  },
  {
   "cell_type": "code",
   "execution_count": 66,
   "metadata": {},
   "outputs": [
    {
     "data": {
      "text/plain": [
       "(8, 16)"
      ]
     },
     "execution_count": 66,
     "metadata": {},
     "output_type": "execute_result"
    }
   ],
   "source": [
    "uq = xq.reshape(m, D_)\n",
    "uq.shape"
   ]
  },
  {
   "cell_type": "markdown",
   "metadata": {},
   "source": [
    "And now we compare this to all of our quantized subvector values (the centroids), which we map using our codebook `c` and ID vectors in `id_b`.\n",
    "\n",
    "We can extract these quantized subvectors like so:"
   ]
  },
  {
   "cell_type": "code",
   "execution_count": 67,
   "metadata": {},
   "outputs": [
    {
     "data": {
      "text/plain": [
       "array([155,  71,   5,  21,  68, 100,  23, 114, 122,  19,  17,  27,  32,\n",
       "       104,  39,  38])"
      ]
     },
     "execution_count": 67,
     "metadata": {},
     "output_type": "execute_result"
    }
   ],
   "source": [
    "j = 2  # subspace 2\n",
    "row = 5  # row/sample 5 in our data\n",
    "c[j][id_b[row][j]]"
   ]
  },
  {
   "cell_type": "markdown",
   "metadata": {},
   "source": [
    "That's a single quantized subvector, we will loop through and do this for all - and calculate the Euclidean distance with `np.linalg.norm` for *every* subvector - summing them all to get a final value (which does not represent the 'estimated' distance between them)."
   ]
  },
  {
   "cell_type": "code",
   "execution_count": 138,
   "metadata": {},
   "outputs": [],
   "source": [
    "all_dist = []\n",
    "# we will loop through each ID vector in qb\n",
    "for row in range(id_b.shape[0]):\n",
    "    u_dist = 0  # we use this to store all subvector distances\n",
    "    for j in range(m):\n",
    "        # get the quantized subvec value of qb[b]\n",
    "        qb_j = c[j][id_b[row][j]]\n",
    "        # calculate the distance between query subvec and quantized db vec\n",
    "        u_dist += np.linalg.norm(uq[j] - qb_j)\n",
    "    # add total distance between query subvecs and qb subvecs\n",
    "    all_dist.append((u_dist, row))\n"
   ]
  },
  {
   "cell_type": "code",
   "execution_count": 139,
   "metadata": {},
   "outputs": [
    {
     "data": {
      "text/plain": [
       "[(1892.7344888809694, 0),\n",
       " (1941.992068055266, 1),\n",
       " (1895.864167006609, 2),\n",
       " (1996.9471078170002, 3),\n",
       " (1942.1256710923853, 4)]"
      ]
     },
     "execution_count": 139,
     "metadata": {},
     "output_type": "execute_result"
    }
   ],
   "source": [
    "all_dist[:5]"
   ]
  },
  {
   "cell_type": "code",
   "execution_count": 140,
   "metadata": {},
   "outputs": [
    {
     "data": {
      "text/plain": [
       "[(1532.1243596980867, 408),\n",
       " (1535.5973447572023, 598),\n",
       " (1542.6889938766724, 643),\n",
       " (1552.2655535367062, 270),\n",
       " (1552.5498689085962, 870)]"
      ]
     },
     "execution_count": 140,
     "metadata": {},
     "output_type": "execute_result"
    }
   ],
   "source": [
    "all_dist.sort()\n",
    "all_dist[:5]"
   ]
  },
  {
   "cell_type": "markdown",
   "metadata": {},
   "source": [
    "Now we have our nearest neighbors. The top five closest, according to our PQ method are `408`, `598`, `643`, `270`, and `870`. Let's compare the original vectors using Euclidean distance to see if these vectors are genuinely closer to our query vector `xq` than other vectors in `xb`."
   ]
  },
  {
   "cell_type": "code",
   "execution_count": 164,
   "metadata": {},
   "outputs": [
    {
     "data": {
      "text/plain": [
       "524.0475"
      ]
     },
     "execution_count": 164,
     "metadata": {},
     "output_type": "execute_result"
    }
   ],
   "source": [
    "# this is our average distance between all vectors\n",
    "np.mean(np.linalg.norm(xb - xq, axis=1))"
   ]
  },
  {
   "cell_type": "code",
   "execution_count": 176,
   "metadata": {},
   "outputs": [
    {
     "name": "stdout",
     "output_type": "stream",
     "text": [
      "408: 382.0392761230469\n",
      "598: 334.31719970703125\n",
      "643: 370.2404479980469\n",
      "270: 370.43218994140625\n",
      "870: 373.1098937988281\n",
      "292: 314.4996032714844\n",
      "756: 364.95343017578125\n",
      "172: 365.80596923828125\n",
      "924: 340.1264343261719\n",
      "610: 388.8958740234375\n",
      "779: 379.72491455078125\n",
      "210: 395.8926696777344\n",
      "762: 369.0989074707031\n",
      "882: 282.3154296875\n",
      "467: 406.41357421875\n"
     ]
    }
   ],
   "source": [
    "# and our distances for the top 15...\n",
    "for dist, idx in all_dist[:15]:\n",
    "    print(f\"{idx}: {np.linalg.norm(xb[idx] - xq)}\")"
   ]
  },
  {
   "cell_type": "markdown",
   "metadata": {},
   "source": [
    "We are returning much lower values than the average - but how close are these to the true lowest distances?"
   ]
  },
  {
   "cell_type": "code",
   "execution_count": 177,
   "metadata": {},
   "outputs": [
    {
     "name": "stdout",
     "output_type": "stream",
     "text": [
      "882: 282.32000732421875 | True\n",
      "190: 292.94000244140625 | False\n",
      "816: 311.0299987792969 | False\n",
      "224: 313.8399963378906 | False\n",
      "292: 314.5 | True\n",
      "492: 321.8500061035156 | False\n",
      "146: 326.5299987792969 | False\n",
      "107: 326.80999755859375 | False\n",
      "641: 331.0400085449219 | False\n",
      "598: 334.32000732421875 | True\n",
      "370: 334.5 | False\n",
      "121: 334.9800109863281 | False\n",
      "124: 336.5 | False\n",
      "696: 337.1300048828125 | False\n",
      "924: 340.1300048828125 | True\n"
     ]
    }
   ],
   "source": [
    "dist_arr = np.linalg.norm(xb - xq, axis=1)\n",
    "# get smallest\n",
    "true_lowest = np.argsort(dist_arr)[:15]\n",
    "# get previous IDs of lowest values using our PQ\n",
    "prev_idx = [x[1] for x in all_dist[:15]]\n",
    "for true_idx in true_lowest:\n",
    "    print(f\"{true_idx}: {round(dist_arr[true_idx], 2)} | {true_idx in prev_idx}\")"
   ]
  },
  {
   "cell_type": "markdown",
   "metadata": {},
   "source": [
    "So out of the top *15* we have return *4* matches - it's not bad, but not great - which should be expected, we're working with a very basic implementation, we have not trained our clusters, and PQ by itself focuses on reducing memory usage rather than anything else. So all things considered, 4/15 is a reasonable result."
   ]
  },
  {
   "cell_type": "code",
   "execution_count": 178,
   "metadata": {},
   "outputs": [
    {
     "data": {
      "text/plain": [
       "0.0"
      ]
     },
     "execution_count": 178,
     "metadata": {},
     "output_type": "execute_result"
    }
   ],
   "source": [
    "xb.min()"
   ]
  },
  {
   "cell_type": "code",
   "execution_count": 179,
   "metadata": {},
   "outputs": [
    {
     "data": {
      "text/plain": [
       "157.0"
      ]
     },
     "execution_count": 179,
     "metadata": {},
     "output_type": "execute_result"
    }
   ],
   "source": [
    "xb.max()"
   ]
  }
 ],
 "metadata": {
  "kernelspec": {
   "display_name": "Python 3.7.0 ('venv')",
   "language": "python",
   "name": "python3"
  },
  "language_info": {
   "codemirror_mode": {
    "name": "ipython",
    "version": 3
   },
   "file_extension": ".py",
   "mimetype": "text/x-python",
   "name": "python",
   "nbconvert_exporter": "python",
   "pygments_lexer": "ipython3",
   "version": "3.7.0"
  },
  "orig_nbformat": 4,
  "vscode": {
   "interpreter": {
    "hash": "95d4fbb50e0639eac78ce31be8f089f6dcaeb2d87ac30a1f549e293ffcab97e3"
   }
  }
 },
 "nbformat": 4,
 "nbformat_minor": 2
}
